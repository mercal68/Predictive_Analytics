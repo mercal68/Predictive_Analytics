{
 "cells": [
  {
   "cell_type": "code",
   "execution_count": 1,
   "metadata": {
    "collapsed": false
   },
   "outputs": [],
   "source": [
    "import numpy as np"
   ]
  },
  {
   "cell_type": "code",
   "execution_count": 2,
   "metadata": {
    "collapsed": true
   },
   "outputs": [],
   "source": [
    "import tensorflow as tf\n",
    "import pandas as pd"
   ]
  },
  {
   "cell_type": "code",
   "execution_count": 3,
   "metadata": {
    "collapsed": true
   },
   "outputs": [],
   "source": [
    "\n",
    "# Use Tensorflow API with Sci Kit Learn for DNN\n",
    "import tensorflow.contrib.learn as skflow"
   ]
  },
  {
   "cell_type": "code",
   "execution_count": 4,
   "metadata": {
    "collapsed": true
   },
   "outputs": [],
   "source": [
    "# Data link is at https://archive.ics.uci.edu/ml/datasets/Parkinsons+Telemonitoring\n",
    "data = pd.read_csv(\"Parkinsons_spark.csv\", header=None)"
   ]
  },
  {
   "cell_type": "code",
   "execution_count": 5,
   "metadata": {
    "collapsed": true
   },
   "outputs": [],
   "source": [
    "# Choose all features \n",
    "X = data[data.columns[1:]]"
   ]
  },
  {
   "cell_type": "code",
   "execution_count": 6,
   "metadata": {
    "collapsed": false
   },
   "outputs": [],
   "source": [
    "y = data[0]"
   ]
  },
  {
   "cell_type": "code",
   "execution_count": 7,
   "metadata": {
    "collapsed": false
   },
   "outputs": [
    {
     "name": "stderr",
     "output_type": "stream",
     "text": [
      "/projects/anaconda3/lib/python3.5/site-packages/sklearn/cross_validation.py:44: DeprecationWarning: This module was deprecated in version 0.18 in favor of the model_selection module into which all the refactored classes and functions are moved. Also note that the interface of the new CV iterators are different from that of this module. This module will be removed in 0.20.\n",
      "  \"This module will be removed in 0.20.\", DeprecationWarning)\n"
     ]
    }
   ],
   "source": [
    "import sklearn.cross_validation as cv\n",
    "from sklearn import datasets, metrics"
   ]
  },
  {
   "cell_type": "code",
   "execution_count": 8,
   "metadata": {
    "collapsed": true
   },
   "outputs": [],
   "source": [
    "# Define train test split\n",
    "x_train, x_test, y_train, y_test = cv.train_test_split(X,y,test_size=1.0/3,random_state=0)"
   ]
  },
  {
   "cell_type": "code",
   "execution_count": 9,
   "metadata": {
    "collapsed": false
   },
   "outputs": [
    {
     "name": "stdout",
     "output_type": "stream",
     "text": [
      "WARNING:tensorflow:float64 is not supported by many models, consider casting to float32.\n",
      "WARNING:tensorflow:Using temporary folder as model directory: /tmp/tmpxq_okclz\n",
      "INFO:tensorflow:Using default config.\n",
      "INFO:tensorflow:Using config: {'_save_checkpoints_steps': None, '_task_type': None, '_tf_random_seed': None, '_num_ps_replicas': 0, '_tf_config': gpu_options {\n",
      "  per_process_gpu_memory_fraction: 1\n",
      "}\n",
      ", '_cluster_spec': <tensorflow.python.training.server_lib.ClusterSpec object at 0x7f1a8d104c88>, '_task_id': 0, '_evaluation_master': '', '_master': '', '_save_summary_steps': 100, '_environment': 'local', '_keep_checkpoint_max': 5, '_is_chief': True, '_keep_checkpoint_every_n_hours': 10000, '_save_checkpoints_secs': 600}\n"
     ]
    }
   ],
   "source": [
    "# Define 3 layer model\n",
    "DNN = skflow.DNNRegressor(feature_columns=skflow.infer_real_valued_columns_from_input(x_train),hidden_units=[200, 100, 40])"
   ]
  },
  {
   "cell_type": "code",
   "execution_count": 10,
   "metadata": {
    "collapsed": false
   },
   "outputs": [
    {
     "name": "stdout",
     "output_type": "stream",
     "text": [
      "WARNING:tensorflow:From <ipython-input-10-de4225b660a0>:2: calling BaseEstimator.fit (from tensorflow.contrib.learn.python.learn.estimators.estimator) with x is deprecated and will be removed after 2016-12-01.\n",
      "Instructions for updating:\n",
      "Estimator is decoupled from Scikit Learn interface by moving into\n",
      "separate class SKCompat. Arguments x, y and batch_size are only\n",
      "available in the SKCompat class, Estimator will only accept input_fn.\n",
      "Example conversion:\n",
      "  est = Estimator(...) -> est = SKCompat(Estimator(...))\n",
      "WARNING:tensorflow:From <ipython-input-10-de4225b660a0>:2: calling BaseEstimator.fit (from tensorflow.contrib.learn.python.learn.estimators.estimator) with y is deprecated and will be removed after 2016-12-01.\n",
      "Instructions for updating:\n",
      "Estimator is decoupled from Scikit Learn interface by moving into\n",
      "separate class SKCompat. Arguments x, y and batch_size are only\n",
      "available in the SKCompat class, Estimator will only accept input_fn.\n",
      "Example conversion:\n",
      "  est = Estimator(...) -> est = SKCompat(Estimator(...))\n",
      "WARNING:tensorflow:From <ipython-input-10-de4225b660a0>:2: calling BaseEstimator.fit (from tensorflow.contrib.learn.python.learn.estimators.estimator) with batch_size is deprecated and will be removed after 2016-12-01.\n",
      "Instructions for updating:\n",
      "Estimator is decoupled from Scikit Learn interface by moving into\n",
      "separate class SKCompat. Arguments x, y and batch_size are only\n",
      "available in the SKCompat class, Estimator will only accept input_fn.\n",
      "Example conversion:\n",
      "  est = Estimator(...) -> est = SKCompat(Estimator(...))\n",
      "WARNING:tensorflow:float64 is not supported by many models, consider casting to float32.\n",
      "WARNING:tensorflow:float64 is not supported by many models, consider casting to float32.\n",
      "WARNING:tensorflow:From /projects/anaconda3/lib/python3.5/site-packages/tensorflow/contrib/learn/python/learn/estimators/head.py:1362: scalar_summary (from tensorflow.python.ops.logging_ops) is deprecated and will be removed after 2016-11-30.\n",
      "Instructions for updating:\n",
      "Please switch to tf.summary.scalar. Note that tf.summary.scalar uses the node name instead of the tag. This means that TensorFlow will automatically de-duplicate summary names based on the scope they are created in. Also, passing a tensor or list of tags to a scalar summary op is no longer supported.\n",
      "INFO:tensorflow:Create CheckpointSaverHook.\n",
      "INFO:tensorflow:Saving checkpoints for 1 into /tmp/tmpxq_okclz/model.ckpt.\n",
      "INFO:tensorflow:loss = 979.978, step = 1\n",
      "INFO:tensorflow:global_step/sec: 113.445\n",
      "INFO:tensorflow:loss = 11.6505, step = 101\n",
      "INFO:tensorflow:global_step/sec: 120.247\n",
      "INFO:tensorflow:loss = 11.2493, step = 201\n",
      "INFO:tensorflow:global_step/sec: 135.36\n",
      "INFO:tensorflow:loss = 13.4044, step = 301\n",
      "INFO:tensorflow:global_step/sec: 95.5655\n",
      "INFO:tensorflow:loss = 11.7638, step = 401\n",
      "INFO:tensorflow:global_step/sec: 116.094\n",
      "INFO:tensorflow:loss = 12.2735, step = 501\n",
      "INFO:tensorflow:global_step/sec: 117.579\n",
      "INFO:tensorflow:loss = 15.3506, step = 601\n",
      "INFO:tensorflow:global_step/sec: 129.728\n",
      "INFO:tensorflow:loss = 9.46743, step = 701\n",
      "INFO:tensorflow:global_step/sec: 101.563\n",
      "INFO:tensorflow:loss = 9.25681, step = 801\n",
      "INFO:tensorflow:global_step/sec: 94.5346\n",
      "INFO:tensorflow:loss = 11.7619, step = 901\n",
      "INFO:tensorflow:global_step/sec: 160.067\n",
      "INFO:tensorflow:loss = 7.80388, step = 1001\n",
      "INFO:tensorflow:global_step/sec: 128.814\n",
      "INFO:tensorflow:loss = 5.7981, step = 1101\n",
      "INFO:tensorflow:global_step/sec: 97.0482\n",
      "INFO:tensorflow:loss = 11.6132, step = 1201\n",
      "INFO:tensorflow:global_step/sec: 145.251\n",
      "INFO:tensorflow:loss = 14.6571, step = 1301\n",
      "INFO:tensorflow:global_step/sec: 144.37\n",
      "INFO:tensorflow:loss = 9.07211, step = 1401\n",
      "INFO:tensorflow:global_step/sec: 142.083\n",
      "INFO:tensorflow:loss = 7.18243, step = 1501\n",
      "INFO:tensorflow:global_step/sec: 130.656\n",
      "INFO:tensorflow:loss = 9.3988, step = 1601\n",
      "INFO:tensorflow:global_step/sec: 94.3479\n",
      "INFO:tensorflow:loss = 8.79748, step = 1701\n",
      "INFO:tensorflow:global_step/sec: 114.33\n",
      "INFO:tensorflow:loss = 8.83241, step = 1801\n",
      "INFO:tensorflow:global_step/sec: 125.609\n",
      "INFO:tensorflow:loss = 8.64435, step = 1901\n",
      "INFO:tensorflow:global_step/sec: 126.906\n",
      "INFO:tensorflow:loss = 11.3441, step = 2001\n",
      "INFO:tensorflow:global_step/sec: 122.749\n",
      "INFO:tensorflow:loss = 12.8035, step = 2101\n",
      "INFO:tensorflow:global_step/sec: 137.175\n",
      "INFO:tensorflow:loss = 7.29441, step = 2201\n",
      "INFO:tensorflow:global_step/sec: 114.868\n",
      "INFO:tensorflow:loss = 7.55279, step = 2301\n",
      "INFO:tensorflow:global_step/sec: 112.202\n",
      "INFO:tensorflow:loss = 8.86907, step = 2401\n",
      "INFO:tensorflow:global_step/sec: 135.517\n",
      "INFO:tensorflow:loss = 8.69333, step = 2501\n",
      "INFO:tensorflow:global_step/sec: 146.616\n",
      "INFO:tensorflow:loss = 8.8547, step = 2601\n",
      "INFO:tensorflow:global_step/sec: 165.578\n",
      "INFO:tensorflow:loss = 9.92535, step = 2701\n",
      "INFO:tensorflow:global_step/sec: 140.642\n",
      "INFO:tensorflow:loss = 9.54326, step = 2801\n",
      "INFO:tensorflow:global_step/sec: 141.682\n",
      "INFO:tensorflow:loss = 10.7091, step = 2901\n",
      "INFO:tensorflow:global_step/sec: 130.119\n",
      "INFO:tensorflow:loss = 6.57204, step = 3001\n",
      "INFO:tensorflow:global_step/sec: 130.066\n",
      "INFO:tensorflow:loss = 8.62592, step = 3101\n",
      "INFO:tensorflow:global_step/sec: 118.566\n",
      "INFO:tensorflow:loss = 7.02544, step = 3201\n",
      "INFO:tensorflow:global_step/sec: 131.712\n",
      "INFO:tensorflow:loss = 11.2113, step = 3301\n",
      "INFO:tensorflow:global_step/sec: 142.116\n",
      "INFO:tensorflow:loss = 11.9695, step = 3401\n",
      "INFO:tensorflow:global_step/sec: 140.308\n",
      "INFO:tensorflow:loss = 6.02958, step = 3501\n",
      "INFO:tensorflow:global_step/sec: 148.038\n",
      "INFO:tensorflow:loss = 9.32814, step = 3601\n",
      "INFO:tensorflow:global_step/sec: 139.713\n",
      "INFO:tensorflow:loss = 11.2808, step = 3701\n",
      "INFO:tensorflow:global_step/sec: 115.135\n",
      "INFO:tensorflow:loss = 9.01641, step = 3801\n",
      "INFO:tensorflow:global_step/sec: 149.242\n",
      "INFO:tensorflow:loss = 7.75997, step = 3901\n",
      "INFO:tensorflow:global_step/sec: 122.642\n",
      "INFO:tensorflow:loss = 10.2769, step = 4001\n",
      "INFO:tensorflow:global_step/sec: 131.395\n",
      "INFO:tensorflow:loss = 5.74864, step = 4101\n",
      "INFO:tensorflow:global_step/sec: 141.982\n",
      "INFO:tensorflow:loss = 6.07428, step = 4201\n",
      "INFO:tensorflow:global_step/sec: 90.5363\n",
      "INFO:tensorflow:loss = 7.88805, step = 4301\n",
      "INFO:tensorflow:global_step/sec: 68.8663\n",
      "INFO:tensorflow:loss = 6.60173, step = 4401\n",
      "INFO:tensorflow:global_step/sec: 118.715\n",
      "INFO:tensorflow:loss = 10.2821, step = 4501\n",
      "INFO:tensorflow:global_step/sec: 159.473\n",
      "INFO:tensorflow:loss = 10.7212, step = 4601\n",
      "INFO:tensorflow:global_step/sec: 154.577\n",
      "INFO:tensorflow:loss = 12.3901, step = 4701\n",
      "INFO:tensorflow:global_step/sec: 138.063\n",
      "INFO:tensorflow:loss = 10.2308, step = 4801\n",
      "INFO:tensorflow:global_step/sec: 89.3901\n",
      "INFO:tensorflow:loss = 5.1423, step = 4901\n",
      "INFO:tensorflow:global_step/sec: 98.7255\n",
      "INFO:tensorflow:loss = 7.90664, step = 5001\n",
      "INFO:tensorflow:global_step/sec: 84.1844\n",
      "INFO:tensorflow:loss = 10.2188, step = 5101\n",
      "INFO:tensorflow:global_step/sec: 110.181\n",
      "INFO:tensorflow:loss = 7.65925, step = 5201\n",
      "INFO:tensorflow:global_step/sec: 97.6736\n",
      "INFO:tensorflow:loss = 9.1316, step = 5301\n",
      "INFO:tensorflow:global_step/sec: 84.5174\n",
      "INFO:tensorflow:loss = 6.62185, step = 5401\n",
      "INFO:tensorflow:global_step/sec: 145.398\n",
      "INFO:tensorflow:loss = 6.84967, step = 5501\n",
      "INFO:tensorflow:global_step/sec: 143.343\n",
      "INFO:tensorflow:loss = 10.0674, step = 5601\n",
      "INFO:tensorflow:global_step/sec: 150.73\n",
      "INFO:tensorflow:loss = 10.607, step = 5701\n",
      "INFO:tensorflow:global_step/sec: 152.699\n",
      "INFO:tensorflow:loss = 8.95932, step = 5801\n",
      "INFO:tensorflow:global_step/sec: 142.904\n",
      "INFO:tensorflow:loss = 8.12418, step = 5901\n",
      "INFO:tensorflow:global_step/sec: 127.807\n",
      "INFO:tensorflow:loss = 10.4136, step = 6001\n",
      "INFO:tensorflow:global_step/sec: 140.523\n",
      "INFO:tensorflow:loss = 8.10355, step = 6101\n",
      "INFO:tensorflow:global_step/sec: 141.669\n",
      "INFO:tensorflow:loss = 7.67903, step = 6201\n",
      "INFO:tensorflow:global_step/sec: 156.891\n",
      "INFO:tensorflow:loss = 9.2526, step = 6301\n",
      "INFO:tensorflow:global_step/sec: 161.139\n",
      "INFO:tensorflow:loss = 9.44508, step = 6401\n",
      "INFO:tensorflow:global_step/sec: 144.886\n",
      "INFO:tensorflow:loss = 6.77801, step = 6501\n",
      "INFO:tensorflow:global_step/sec: 107.042\n",
      "INFO:tensorflow:loss = 9.03866, step = 6601\n",
      "INFO:tensorflow:global_step/sec: 143.087\n",
      "INFO:tensorflow:loss = 8.35758, step = 6701\n",
      "INFO:tensorflow:global_step/sec: 152.35\n",
      "INFO:tensorflow:loss = 9.19166, step = 6801\n",
      "INFO:tensorflow:global_step/sec: 164.064\n",
      "INFO:tensorflow:loss = 10.181, step = 6901\n",
      "INFO:tensorflow:global_step/sec: 155.038\n",
      "INFO:tensorflow:loss = 10.5565, step = 7001\n",
      "INFO:tensorflow:global_step/sec: 130.404\n",
      "INFO:tensorflow:loss = 4.87316, step = 7101\n",
      "INFO:tensorflow:global_step/sec: 144.139\n",
      "INFO:tensorflow:loss = 4.35764, step = 7201\n",
      "INFO:tensorflow:global_step/sec: 165.044\n",
      "INFO:tensorflow:loss = 6.9747, step = 7301\n",
      "INFO:tensorflow:global_step/sec: 146.134\n",
      "INFO:tensorflow:loss = 7.07227, step = 7401\n",
      "INFO:tensorflow:global_step/sec: 162.828\n",
      "INFO:tensorflow:loss = 6.32803, step = 7501\n",
      "INFO:tensorflow:global_step/sec: 143.743\n",
      "INFO:tensorflow:loss = 8.23174, step = 7601\n",
      "INFO:tensorflow:global_step/sec: 143.905\n",
      "INFO:tensorflow:loss = 8.74411, step = 7701\n",
      "INFO:tensorflow:global_step/sec: 165.264\n",
      "INFO:tensorflow:loss = 8.59179, step = 7801\n",
      "INFO:tensorflow:global_step/sec: 168.492\n",
      "INFO:tensorflow:loss = 7.6952, step = 7901\n",
      "INFO:tensorflow:global_step/sec: 160.472\n",
      "INFO:tensorflow:loss = 8.97857, step = 8001\n",
      "INFO:tensorflow:global_step/sec: 138.74\n",
      "INFO:tensorflow:loss = 12.111, step = 8101\n",
      "INFO:tensorflow:global_step/sec: 119.438\n",
      "INFO:tensorflow:loss = 8.13515, step = 8201\n",
      "INFO:tensorflow:global_step/sec: 137.714\n",
      "INFO:tensorflow:loss = 8.14356, step = 8301\n",
      "INFO:tensorflow:global_step/sec: 162.46\n",
      "INFO:tensorflow:loss = 10.5386, step = 8401\n",
      "INFO:tensorflow:global_step/sec: 160.025\n",
      "INFO:tensorflow:loss = 6.95815, step = 8501\n",
      "INFO:tensorflow:global_step/sec: 142.515\n",
      "INFO:tensorflow:loss = 7.43823, step = 8601\n",
      "INFO:tensorflow:global_step/sec: 149.994\n",
      "INFO:tensorflow:loss = 8.58078, step = 8701\n",
      "INFO:tensorflow:global_step/sec: 158.104\n",
      "INFO:tensorflow:loss = 6.6471, step = 8801\n",
      "INFO:tensorflow:global_step/sec: 152.034\n",
      "INFO:tensorflow:loss = 6.60402, step = 8901\n",
      "INFO:tensorflow:global_step/sec: 161.811\n",
      "INFO:tensorflow:loss = 9.98442, step = 9001\n",
      "INFO:tensorflow:global_step/sec: 162.956\n",
      "INFO:tensorflow:loss = 5.95858, step = 9101\n",
      "INFO:tensorflow:global_step/sec: 132.089\n",
      "INFO:tensorflow:loss = 7.96152, step = 9201\n",
      "INFO:tensorflow:global_step/sec: 144.02\n",
      "INFO:tensorflow:loss = 4.74176, step = 9301\n",
      "INFO:tensorflow:global_step/sec: 183.061\n",
      "INFO:tensorflow:loss = 7.26261, step = 9401\n",
      "INFO:tensorflow:global_step/sec: 153.571\n",
      "INFO:tensorflow:loss = 7.67808, step = 9501\n",
      "INFO:tensorflow:global_step/sec: 166.897\n",
      "INFO:tensorflow:loss = 7.4437, step = 9601\n",
      "INFO:tensorflow:global_step/sec: 120.559\n",
      "INFO:tensorflow:loss = 5.75753, step = 9701\n",
      "INFO:tensorflow:global_step/sec: 122.586\n",
      "INFO:tensorflow:loss = 6.67313, step = 9801\n",
      "INFO:tensorflow:global_step/sec: 139.443\n",
      "INFO:tensorflow:loss = 8.86385, step = 9901\n",
      "INFO:tensorflow:global_step/sec: 146.203\n",
      "INFO:tensorflow:loss = 14.0584, step = 10001\n",
      "INFO:tensorflow:global_step/sec: 126.324\n",
      "INFO:tensorflow:loss = 7.26528, step = 10101\n",
      "INFO:tensorflow:global_step/sec: 136.357\n",
      "INFO:tensorflow:loss = 8.62454, step = 10201\n",
      "INFO:tensorflow:global_step/sec: 149.865\n",
      "INFO:tensorflow:loss = 6.10539, step = 10301\n",
      "INFO:tensorflow:global_step/sec: 135.175\n",
      "INFO:tensorflow:loss = 8.25663, step = 10401\n",
      "INFO:tensorflow:global_step/sec: 128.604\n",
      "INFO:tensorflow:loss = 6.30136, step = 10501\n",
      "INFO:tensorflow:global_step/sec: 113.797\n",
      "INFO:tensorflow:loss = 10.4746, step = 10601\n",
      "INFO:tensorflow:global_step/sec: 140.652\n",
      "INFO:tensorflow:loss = 4.88483, step = 10701\n",
      "INFO:tensorflow:global_step/sec: 149.73\n",
      "INFO:tensorflow:loss = 9.97587, step = 10801\n",
      "INFO:tensorflow:global_step/sec: 141.946\n",
      "INFO:tensorflow:loss = 7.00639, step = 10901\n",
      "INFO:tensorflow:global_step/sec: 139.193\n",
      "INFO:tensorflow:loss = 5.06151, step = 11001\n",
      "INFO:tensorflow:global_step/sec: 139.124\n",
      "INFO:tensorflow:loss = 7.97454, step = 11101\n",
      "INFO:tensorflow:global_step/sec: 89.097\n",
      "INFO:tensorflow:loss = 5.11189, step = 11201\n",
      "INFO:tensorflow:global_step/sec: 116.136\n",
      "INFO:tensorflow:loss = 5.14516, step = 11301\n",
      "INFO:tensorflow:global_step/sec: 128.296\n",
      "INFO:tensorflow:loss = 7.81986, step = 11401\n",
      "INFO:tensorflow:global_step/sec: 163.62\n",
      "INFO:tensorflow:loss = 6.11869, step = 11501\n",
      "INFO:tensorflow:global_step/sec: 97.9894\n",
      "INFO:tensorflow:loss = 6.38348, step = 11601\n",
      "INFO:tensorflow:global_step/sec: 124.317\n",
      "INFO:tensorflow:loss = 9.2324, step = 11701\n",
      "INFO:tensorflow:global_step/sec: 121.068\n",
      "INFO:tensorflow:loss = 8.89529, step = 11801\n",
      "INFO:tensorflow:global_step/sec: 103.08\n",
      "INFO:tensorflow:loss = 7.0833, step = 11901\n",
      "INFO:tensorflow:global_step/sec: 137.3\n",
      "INFO:tensorflow:loss = 6.23193, step = 12001\n",
      "INFO:tensorflow:global_step/sec: 111.995\n",
      "INFO:tensorflow:loss = 7.69039, step = 12101\n",
      "INFO:tensorflow:global_step/sec: 144.244\n",
      "INFO:tensorflow:loss = 5.31782, step = 12201\n",
      "INFO:tensorflow:global_step/sec: 112.495\n",
      "INFO:tensorflow:loss = 9.08777, step = 12301\n",
      "INFO:tensorflow:global_step/sec: 93.1484\n",
      "INFO:tensorflow:loss = 8.51773, step = 12401\n",
      "INFO:tensorflow:global_step/sec: 117.988\n",
      "INFO:tensorflow:loss = 6.07653, step = 12501\n",
      "INFO:tensorflow:global_step/sec: 133.435\n",
      "INFO:tensorflow:loss = 5.63007, step = 12601\n",
      "INFO:tensorflow:global_step/sec: 162.236\n",
      "INFO:tensorflow:loss = 5.96481, step = 12701\n",
      "INFO:tensorflow:global_step/sec: 145.688\n",
      "INFO:tensorflow:loss = 7.57712, step = 12801\n",
      "INFO:tensorflow:global_step/sec: 139.724\n",
      "INFO:tensorflow:loss = 9.39703, step = 12901\n",
      "INFO:tensorflow:global_step/sec: 159.985\n",
      "INFO:tensorflow:loss = 5.93451, step = 13001\n",
      "INFO:tensorflow:global_step/sec: 125.242\n",
      "INFO:tensorflow:loss = 6.63621, step = 13101\n",
      "INFO:tensorflow:global_step/sec: 136.121\n",
      "INFO:tensorflow:loss = 5.34678, step = 13201\n",
      "INFO:tensorflow:global_step/sec: 138.898\n",
      "INFO:tensorflow:loss = 5.33734, step = 13301\n",
      "INFO:tensorflow:global_step/sec: 158.156\n",
      "INFO:tensorflow:loss = 6.10454, step = 13401\n",
      "INFO:tensorflow:global_step/sec: 150.757\n",
      "INFO:tensorflow:loss = 5.70356, step = 13501\n",
      "INFO:tensorflow:global_step/sec: 164.501\n",
      "INFO:tensorflow:loss = 6.6552, step = 13601\n",
      "INFO:tensorflow:global_step/sec: 140.766\n",
      "INFO:tensorflow:loss = 9.85071, step = 13701\n",
      "INFO:tensorflow:global_step/sec: 143.255\n",
      "INFO:tensorflow:loss = 7.11306, step = 13801\n",
      "INFO:tensorflow:global_step/sec: 160.123\n",
      "INFO:tensorflow:loss = 9.58754, step = 13901\n",
      "INFO:tensorflow:global_step/sec: 151.247\n",
      "INFO:tensorflow:loss = 5.53705, step = 14001\n",
      "INFO:tensorflow:global_step/sec: 163.739\n",
      "INFO:tensorflow:loss = 9.4671, step = 14101\n",
      "INFO:tensorflow:global_step/sec: 140.464\n",
      "INFO:tensorflow:loss = 7.97304, step = 14201\n",
      "INFO:tensorflow:global_step/sec: 129.855\n",
      "INFO:tensorflow:loss = 7.49803, step = 14301\n",
      "INFO:tensorflow:global_step/sec: 136.342\n",
      "INFO:tensorflow:loss = 4.36662, step = 14401\n",
      "INFO:tensorflow:global_step/sec: 125.999\n",
      "INFO:tensorflow:loss = 8.01771, step = 14501\n",
      "INFO:tensorflow:global_step/sec: 146.587\n",
      "INFO:tensorflow:loss = 5.75314, step = 14601\n",
      "INFO:tensorflow:global_step/sec: 146.97\n",
      "INFO:tensorflow:loss = 7.22111, step = 14701\n",
      "INFO:tensorflow:global_step/sec: 151.613\n",
      "INFO:tensorflow:loss = 7.90392, step = 14801\n",
      "INFO:tensorflow:global_step/sec: 141.327\n",
      "INFO:tensorflow:loss = 7.16895, step = 14901\n",
      "INFO:tensorflow:global_step/sec: 133.309\n",
      "INFO:tensorflow:loss = 6.80143, step = 15001\n",
      "INFO:tensorflow:global_step/sec: 154.262\n",
      "INFO:tensorflow:loss = 7.21113, step = 15101\n",
      "INFO:tensorflow:global_step/sec: 93.1684\n",
      "INFO:tensorflow:loss = 7.48666, step = 15201\n",
      "INFO:tensorflow:global_step/sec: 137.771\n",
      "INFO:tensorflow:loss = 8.62357, step = 15301\n",
      "INFO:tensorflow:global_step/sec: 143.311\n",
      "INFO:tensorflow:loss = 5.39353, step = 15401\n",
      "INFO:tensorflow:global_step/sec: 149.543\n",
      "INFO:tensorflow:loss = 8.05802, step = 15501\n",
      "INFO:tensorflow:global_step/sec: 162.681\n",
      "INFO:tensorflow:loss = 6.72005, step = 15601\n",
      "INFO:tensorflow:global_step/sec: 103.086\n",
      "INFO:tensorflow:loss = 7.96755, step = 15701\n",
      "INFO:tensorflow:global_step/sec: 146.724\n",
      "INFO:tensorflow:loss = 8.60215, step = 15801\n",
      "INFO:tensorflow:global_step/sec: 159.722\n",
      "INFO:tensorflow:loss = 6.76097, step = 15901\n",
      "INFO:tensorflow:global_step/sec: 162.146\n",
      "INFO:tensorflow:loss = 7.88583, step = 16001\n",
      "INFO:tensorflow:global_step/sec: 165.788\n",
      "INFO:tensorflow:loss = 8.77827, step = 16101\n",
      "INFO:tensorflow:global_step/sec: 149.54\n",
      "INFO:tensorflow:loss = 8.52522, step = 16201\n",
      "INFO:tensorflow:global_step/sec: 141.837\n",
      "INFO:tensorflow:loss = 4.17025, step = 16301\n",
      "INFO:tensorflow:global_step/sec: 160.198\n",
      "INFO:tensorflow:loss = 6.48457, step = 16401\n",
      "INFO:tensorflow:global_step/sec: 139.533\n",
      "INFO:tensorflow:loss = 5.23329, step = 16501\n",
      "INFO:tensorflow:global_step/sec: 125.945\n",
      "INFO:tensorflow:loss = 7.84363, step = 16601\n",
      "INFO:tensorflow:global_step/sec: 116.262\n",
      "INFO:tensorflow:loss = 6.57831, step = 16701\n",
      "INFO:tensorflow:global_step/sec: 132.473\n",
      "INFO:tensorflow:loss = 5.58334, step = 16801\n",
      "INFO:tensorflow:global_step/sec: 133.207\n",
      "INFO:tensorflow:loss = 4.45589, step = 16901\n",
      "INFO:tensorflow:global_step/sec: 145.087\n",
      "INFO:tensorflow:loss = 8.12535, step = 17001\n",
      "INFO:tensorflow:global_step/sec: 143.538\n",
      "INFO:tensorflow:loss = 7.33361, step = 17101\n",
      "INFO:tensorflow:global_step/sec: 152.439\n",
      "INFO:tensorflow:loss = 9.22274, step = 17201\n",
      "INFO:tensorflow:global_step/sec: 145.806\n",
      "INFO:tensorflow:loss = 9.01369, step = 17301\n",
      "INFO:tensorflow:global_step/sec: 109.011\n",
      "INFO:tensorflow:loss = 7.6142, step = 17401\n",
      "INFO:tensorflow:global_step/sec: 146.204\n",
      "INFO:tensorflow:loss = 5.66577, step = 17501\n",
      "INFO:tensorflow:global_step/sec: 136.869\n",
      "INFO:tensorflow:loss = 8.00154, step = 17601\n",
      "INFO:tensorflow:global_step/sec: 81.1197\n",
      "INFO:tensorflow:loss = 5.94991, step = 17701\n",
      "INFO:tensorflow:global_step/sec: 73.4525\n",
      "INFO:tensorflow:loss = 6.82401, step = 17801\n",
      "INFO:tensorflow:global_step/sec: 91.0594\n",
      "INFO:tensorflow:loss = 7.82986, step = 17901\n",
      "INFO:tensorflow:global_step/sec: 95.4592\n",
      "INFO:tensorflow:loss = 7.40959, step = 18001\n",
      "INFO:tensorflow:global_step/sec: 95.9989\n",
      "INFO:tensorflow:loss = 6.49704, step = 18101\n",
      "INFO:tensorflow:global_step/sec: 76.774\n",
      "INFO:tensorflow:loss = 5.06321, step = 18201\n",
      "INFO:tensorflow:global_step/sec: 109.301\n",
      "INFO:tensorflow:loss = 7.97944, step = 18301\n",
      "INFO:tensorflow:global_step/sec: 111.477\n",
      "INFO:tensorflow:loss = 7.66173, step = 18401\n",
      "INFO:tensorflow:global_step/sec: 139.078\n",
      "INFO:tensorflow:loss = 5.82045, step = 18501\n",
      "INFO:tensorflow:global_step/sec: 153.19\n",
      "INFO:tensorflow:loss = 7.37436, step = 18601\n",
      "INFO:tensorflow:global_step/sec: 108.644\n",
      "INFO:tensorflow:loss = 6.34879, step = 18701\n",
      "INFO:tensorflow:global_step/sec: 119.909\n",
      "INFO:tensorflow:loss = 9.03573, step = 18801\n",
      "INFO:tensorflow:global_step/sec: 160.085\n",
      "INFO:tensorflow:loss = 6.00112, step = 18901\n",
      "INFO:tensorflow:global_step/sec: 142.547\n",
      "INFO:tensorflow:loss = 8.54665, step = 19001\n",
      "INFO:tensorflow:global_step/sec: 128.486\n",
      "INFO:tensorflow:loss = 6.08486, step = 19101\n",
      "INFO:tensorflow:global_step/sec: 143.031\n",
      "INFO:tensorflow:loss = 8.5803, step = 19201\n",
      "INFO:tensorflow:global_step/sec: 161.267\n",
      "INFO:tensorflow:loss = 10.2289, step = 19301\n",
      "INFO:tensorflow:global_step/sec: 158.785\n",
      "INFO:tensorflow:loss = 6.62196, step = 19401\n",
      "INFO:tensorflow:global_step/sec: 148.497\n",
      "INFO:tensorflow:loss = 7.05437, step = 19501\n",
      "INFO:tensorflow:global_step/sec: 122.135\n",
      "INFO:tensorflow:loss = 4.62148, step = 19601\n",
      "INFO:tensorflow:global_step/sec: 128.283\n",
      "INFO:tensorflow:loss = 5.00458, step = 19701\n",
      "INFO:tensorflow:global_step/sec: 141.316\n",
      "INFO:tensorflow:loss = 5.58689, step = 19801\n",
      "INFO:tensorflow:global_step/sec: 150.374\n",
      "INFO:tensorflow:loss = 5.04183, step = 19901\n",
      "INFO:tensorflow:Saving checkpoints for 20000 into /tmp/tmpxq_okclz/model.ckpt.\n",
      "INFO:tensorflow:Loss for final step: 6.13082.\n"
     ]
    },
    {
     "data": {
      "text/plain": [
       "DNNRegressor(params={'dropout': None, 'head': <tensorflow.contrib.learn.python.learn.estimators.head._RegressionHead object at 0x7f1a8d104b00>, 'hidden_units': [200, 100, 40], 'input_layer_min_slice_size': None, 'optimizer': None, 'feature_columns': (_RealValuedColumn(column_name='', dimension=20, default_value=None, dtype=tf.float64, normalizer=None),), 'gradient_clip_norm': None, 'activation_fn': <function relu at 0x7f1ad642a620>, 'embedding_lr_multipliers': None})"
      ]
     },
     "execution_count": 10,
     "metadata": {},
     "output_type": "execute_result"
    }
   ],
   "source": [
    "# fit the model\n",
    "DNN.fit(x_train, y_train, steps=20000, batch_size=80)"
   ]
  },
  {
   "cell_type": "code",
   "execution_count": 11,
   "metadata": {
    "collapsed": false
   },
   "outputs": [
    {
     "name": "stdout",
     "output_type": "stream",
     "text": [
      "WARNING:tensorflow:From /projects/anaconda3/lib/python3.5/site-packages/tensorflow/contrib/learn/python/learn/estimators/dnn.py:692: calling BaseEstimator.predict (from tensorflow.contrib.learn.python.learn.estimators.estimator) with x is deprecated and will be removed after 2016-12-01.\n",
      "Instructions for updating:\n",
      "Estimator is decoupled from Scikit Learn interface by moving into\n",
      "separate class SKCompat. Arguments x, y and batch_size are only\n",
      "available in the SKCompat class, Estimator will only accept input_fn.\n",
      "Example conversion:\n",
      "  est = Estimator(...) -> est = SKCompat(Estimator(...))\n",
      "WARNING:tensorflow:float64 is not supported by many models, consider casting to float32.\n"
     ]
    }
   ],
   "source": [
    "#obtain predictions list for test sample\n",
    "prediction_tf = list(DNN.predict(x_test, as_iterable=True))"
   ]
  },
  {
   "cell_type": "code",
   "execution_count": 12,
   "metadata": {
    "collapsed": false
   },
   "outputs": [],
   "source": [
    "#obtain scores\n",
    "score = metrics.mean_squared_error(prediction_tf, y_test)"
   ]
  },
  {
   "cell_type": "code",
   "execution_count": 13,
   "metadata": {
    "collapsed": false
   },
   "outputs": [
    {
     "name": "stdout",
     "output_type": "stream",
     "text": [
      "MSE: 6.897993\n"
     ]
    }
   ],
   "source": [
    "print (\"MSE: %f\" % score)"
   ]
  },
  {
   "cell_type": "code",
   "execution_count": 14,
   "metadata": {
    "collapsed": true
   },
   "outputs": [],
   "source": [
    "score_r2=metrics.r2_score(prediction_tf, y_test)"
   ]
  },
  {
   "cell_type": "code",
   "execution_count": 15,
   "metadata": {
    "collapsed": false
   },
   "outputs": [
    {
     "name": "stdout",
     "output_type": "stream",
     "text": [
      "R2: 0.934888\n"
     ]
    }
   ],
   "source": [
    "print (\"R2: %f\" % score_r2)"
   ]
  },
  {
   "cell_type": "code",
   "execution_count": null,
   "metadata": {
    "collapsed": true
   },
   "outputs": [],
   "source": []
  }
 ],
 "metadata": {
  "kernelspec": {
   "display_name": "Anaconda (Python 3)",
   "language": "python",
   "name": "anaconda3"
  },
  "language_info": {
   "codemirror_mode": {
    "name": "ipython",
    "version": 3
   },
   "file_extension": ".py",
   "mimetype": "text/x-python",
   "name": "python",
   "nbconvert_exporter": "python",
   "pygments_lexer": "ipython3",
   "version": "3.5.3"
  }
 },
 "nbformat": 4,
 "nbformat_minor": 0
}
