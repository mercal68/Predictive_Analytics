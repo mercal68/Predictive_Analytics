{
 "cells": [
  {
   "cell_type": "code",
   "execution_count": 1,
   "metadata": {
    "collapsed": false
   },
   "outputs": [],
   "source": [
    "# Selected the data from repository link: https://archive.ics.uci.edu/ml/datasets/Breast+Cancer+Wisconsin+%28Diagnostic%29\n",
    "# Prepare the data for ML models\n",
    "\n",
    "import pandas as pd\n",
    "\n",
    "data = pd.read_csv(\"breast-cancer.csv\", header=None)\n",
    "\n",
    "X = data[data.columns[2:]]\n",
    "y = data[1]\n",
    "\n",
    "import sklearn.cross_validation as cv\n",
    "x_train, x_test, y_train, y_test = cv.train_test_split(X, \n",
    "                                                       y, \n",
    "                                                       test_size=1.0/3, \n",
    "                                                       random_state=0)"
   ]
  },
  {
   "cell_type": "code",
   "execution_count": 2,
   "metadata": {
    "collapsed": false
   },
   "outputs": [
    {
     "data": {
      "text/plain": [
       "KNeighborsClassifier(algorithm='auto', leaf_size=30, metric='minkowski',\n",
       "           metric_params=None, n_jobs=1, n_neighbors=4, p=2,\n",
       "           weights='uniform')"
      ]
     },
     "execution_count": 2,
     "metadata": {},
     "output_type": "execute_result"
    }
   ],
   "source": [
    "# Instantiate the model\n",
    "# m = Model () used for  k nearest neighbors\n",
    "# Choose predictors and split the data\n",
    "\n",
    "from sklearn.neighbors import KNeighborsClassifier\n",
    "neighbors_model = KNeighborsClassifier(n_neighbors=4)\n",
    "\n",
    "neighbors_model.fit(x_train, y_train)"
   ]
  },
  {
   "cell_type": "code",
   "execution_count": 3,
   "metadata": {
    "collapsed": false
   },
   "outputs": [
    {
     "name": "stdout",
     "output_type": "stream",
     "text": [
      "Training accuracy: 0.94195\n",
      "Testing accuracy: 0.94211\n"
     ]
    }
   ],
   "source": [
    "#Use the split data sets and  Evaluate it\n",
    "#m.score(train_data)\n",
    "\n",
    "print \"Training accuracy: %.5f\" %neighbors_model.score(x_train, y_train)\n",
    "print \"Testing accuracy: %.5f\" %neighbors_model.score(x_test, y_test)"
   ]
  },
  {
   "cell_type": "code",
   "execution_count": 4,
   "metadata": {
    "collapsed": false
   },
   "outputs": [
    {
     "data": {
      "text/plain": [
       "LogisticRegression(C=1.0, class_weight=None, dual=False, fit_intercept=True,\n",
       "          intercept_scaling=1, max_iter=100, multi_class='ovr', n_jobs=1,\n",
       "          penalty='l2', random_state=None, solver='liblinear', tol=0.0001,\n",
       "          verbose=0, warm_start=False)"
      ]
     },
     "execution_count": 4,
     "metadata": {},
     "output_type": "execute_result"
    }
   ],
   "source": [
    "#Trying to improve accuracy with a regression model\n",
    "# Instantiate the model\n",
    "# m = Model () used for  Logistic regression\n",
    "\n",
    "from sklearn import linear_model\n",
    "logit = linear_model.LogisticRegression()\n",
    "\n",
    "logit.fit(x_train, y_train)"
   ]
  },
  {
   "cell_type": "code",
   "execution_count": 5,
   "metadata": {
    "collapsed": false
   },
   "outputs": [
    {
     "name": "stdout",
     "output_type": "stream",
     "text": [
      "Training accuracy: 0.95778\n",
      "Testing accuracy: 0.96316\n"
     ]
    }
   ],
   "source": [
    "#Use the split data sets and  Evaluate it\n",
    "#m.score(train_data)\n",
    "\n",
    "print \"Training accuracy: %.5f\" %logit.score(x_train, y_train)\n",
    "print \"Testing accuracy: %.5f\" %logit.score(x_test, y_test)"
   ]
  },
  {
   "cell_type": "code",
   "execution_count": 7,
   "metadata": {
    "collapsed": false
   },
   "outputs": [
    {
     "name": "stderr",
     "output_type": "stream",
     "text": [
      "/Users/mercal/anaconda/lib/python2.7/site-packages/sklearn/lda.py:4: DeprecationWarning: lda.LDA has been moved to discriminant_analysis.LinearDiscriminantAnalysis in 0.17 and will be removed in 0.19\n",
      "  \"in 0.17 and will be removed in 0.19\", DeprecationWarning)\n"
     ]
    },
    {
     "data": {
      "text/plain": [
       "LinearDiscriminantAnalysis(n_components=None, priors=None, shrinkage=None,\n",
       "              solver='svd', store_covariance=False, tol=0.0001)"
      ]
     },
     "execution_count": 7,
     "metadata": {},
     "output_type": "execute_result"
    }
   ],
   "source": [
    "# Trying to improve accuracy and compare it to another model\n",
    "# Instantiate the model\n",
    "# m = Model () used for  Linear Discriminant Analysis\n",
    "\n",
    "from sklearn import lda\n",
    "LDA = lda.LDA()\n",
    "\n",
    "LDA.fit(x_train, y_train)"
   ]
  },
  {
   "cell_type": "code",
   "execution_count": 8,
   "metadata": {
    "collapsed": false
   },
   "outputs": [
    {
     "name": "stdout",
     "output_type": "stream",
     "text": [
      "Training accuracy: 0.96306\n",
      "Testing accuracy: 0.97368\n"
     ]
    }
   ],
   "source": [
    "#Use the split data sets and  Evaluate it\n",
    "#m.score(train_data)\n",
    "\n",
    "print \"Training accuracy: %.5f\" %LDA.score(x_train, y_train)\n",
    "print \"Testing accuracy: %.5f\" %LDA.score(x_test, y_test)"
   ]
  },
  {
   "cell_type": "code",
   "execution_count": 9,
   "metadata": {
    "collapsed": false
   },
   "outputs": [
    {
     "name": "stderr",
     "output_type": "stream",
     "text": [
      "/Users/mercal/anaconda/lib/python2.7/site-packages/sklearn/qda.py:4: DeprecationWarning: qda.QDA has been moved to discriminant_analysis.QuadraticDiscriminantAnalysis in 0.17 and will be removed in 0.19.\n",
      "  \"in 0.17 and will be removed in 0.19.\", DeprecationWarning)\n"
     ]
    },
    {
     "data": {
      "text/plain": [
       "QuadraticDiscriminantAnalysis(priors=None, reg_param=0.0,\n",
       "               store_covariances=False, tol=0.0001)"
      ]
     },
     "execution_count": 9,
     "metadata": {},
     "output_type": "execute_result"
    }
   ],
   "source": [
    "from sklearn import qda\n",
    "QDA = qda.QDA()\n",
    "\n",
    "QDA.fit(x_train, y_train)"
   ]
  },
  {
   "cell_type": "code",
   "execution_count": 10,
   "metadata": {
    "collapsed": false
   },
   "outputs": [
    {
     "name": "stdout",
     "output_type": "stream",
     "text": [
      "Training accuracy: 0.97361\n",
      "Testing accuracy: 0.95789\n"
     ]
    }
   ],
   "source": [
    "print \"Training accuracy: %.5f\" %QDA.score(x_train, y_train)\n",
    "print \"Testing accuracy: %.5f\" %QDA.score(x_test, y_test)"
   ]
  },
  {
   "cell_type": "code",
   "execution_count": null,
   "metadata": {
    "collapsed": true
   },
   "outputs": [],
   "source": []
  }
 ],
 "metadata": {
  "kernelspec": {
   "display_name": "Python 2",
   "language": "python",
   "name": "python2"
  },
  "language_info": {
   "codemirror_mode": {
    "name": "ipython",
    "version": 2
   },
   "file_extension": ".py",
   "mimetype": "text/x-python",
   "name": "python",
   "nbconvert_exporter": "python",
   "pygments_lexer": "ipython2",
   "version": "2.7.10"
  }
 },
 "nbformat": 4,
 "nbformat_minor": 0
}
