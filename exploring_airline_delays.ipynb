{
 "cells": [
  {
   "cell_type": "code",
   "execution_count": 1,
   "metadata": {
    "collapsed": true
   },
   "outputs": [],
   "source": [
    "# Airline delay data subset selected instead of complete data\n",
    "import numpy as np\n",
    "import pandas as pd\n",
    "df = pd.read_csv(\"airline_data.csv\")"
   ]
  },
  {
   "cell_type": "code",
   "execution_count": 2,
   "metadata": {
    "collapsed": false
   },
   "outputs": [
    {
     "data": {
      "text/html": [
       "<div>\n",
       "<table border=\"1\" class=\"dataframe\">\n",
       "  <thead>\n",
       "    <tr style=\"text-align: right;\">\n",
       "      <th></th>\n",
       "      <th>Year</th>\n",
       "      <th>Month</th>\n",
       "      <th>DayofMonth</th>\n",
       "      <th>DayOfWeek</th>\n",
       "      <th>DepTime</th>\n",
       "      <th>UniqueCarrier</th>\n",
       "      <th>Origin</th>\n",
       "      <th>Dest</th>\n",
       "      <th>Distance</th>\n",
       "      <th>dep_delayed_15min</th>\n",
       "    </tr>\n",
       "  </thead>\n",
       "  <tbody>\n",
       "    <tr>\n",
       "      <th>0</th>\n",
       "      <td>2006</td>\n",
       "      <td>c-11</td>\n",
       "      <td>c-22</td>\n",
       "      <td>c-3</td>\n",
       "      <td>1316</td>\n",
       "      <td>AA</td>\n",
       "      <td>FAT</td>\n",
       "      <td>DFW</td>\n",
       "      <td>1313</td>\n",
       "      <td>N</td>\n",
       "    </tr>\n",
       "    <tr>\n",
       "      <th>1</th>\n",
       "      <td>2004</td>\n",
       "      <td>c-10</td>\n",
       "      <td>c-12</td>\n",
       "      <td>c-2</td>\n",
       "      <td>1242</td>\n",
       "      <td>US</td>\n",
       "      <td>SAN</td>\n",
       "      <td>PHL</td>\n",
       "      <td>2369</td>\n",
       "      <td>N</td>\n",
       "    </tr>\n",
       "    <tr>\n",
       "      <th>2</th>\n",
       "      <td>2006</td>\n",
       "      <td>c-5</td>\n",
       "      <td>c-5</td>\n",
       "      <td>c-5</td>\n",
       "      <td>1302</td>\n",
       "      <td>OO</td>\n",
       "      <td>SBP</td>\n",
       "      <td>SFO</td>\n",
       "      <td>191</td>\n",
       "      <td>Y</td>\n",
       "    </tr>\n",
       "    <tr>\n",
       "      <th>3</th>\n",
       "      <td>2005</td>\n",
       "      <td>c-8</td>\n",
       "      <td>c-8</td>\n",
       "      <td>c-1</td>\n",
       "      <td>1138</td>\n",
       "      <td>DL</td>\n",
       "      <td>PHL</td>\n",
       "      <td>ATL</td>\n",
       "      <td>665</td>\n",
       "      <td>N</td>\n",
       "    </tr>\n",
       "    <tr>\n",
       "      <th>4</th>\n",
       "      <td>2005</td>\n",
       "      <td>c-4</td>\n",
       "      <td>c-3</td>\n",
       "      <td>c-7</td>\n",
       "      <td>1438</td>\n",
       "      <td>DL</td>\n",
       "      <td>ATL</td>\n",
       "      <td>BDL</td>\n",
       "      <td>859</td>\n",
       "      <td>N</td>\n",
       "    </tr>\n",
       "  </tbody>\n",
       "</table>\n",
       "</div>"
      ],
      "text/plain": [
       "   Year Month DayofMonth DayOfWeek  DepTime UniqueCarrier Origin Dest  \\\n",
       "0  2006  c-11       c-22       c-3     1316            AA    FAT  DFW   \n",
       "1  2004  c-10       c-12       c-2     1242            US    SAN  PHL   \n",
       "2  2006   c-5        c-5       c-5     1302            OO    SBP  SFO   \n",
       "3  2005   c-8        c-8       c-1     1138            DL    PHL  ATL   \n",
       "4  2005   c-4        c-3       c-7     1438            DL    ATL  BDL   \n",
       "\n",
       "   Distance dep_delayed_15min  \n",
       "0      1313                 N  \n",
       "1      2369                 N  \n",
       "2       191                 Y  \n",
       "3       665                 N  \n",
       "4       859                 N  "
      ]
     },
     "execution_count": 2,
     "metadata": {},
     "output_type": "execute_result"
    }
   ],
   "source": [
    "df.head()"
   ]
  },
  {
   "cell_type": "code",
   "execution_count": 4,
   "metadata": {
    "collapsed": true
   },
   "outputs": [],
   "source": [
    "#map numerical values to  categorical target and select features\n",
    "d = {'Y': 1, 'N': 0}\n",
    "df['dep_delayed_15min']=df['dep_delayed_15min'].map(d)\n",
    "\n",
    "df_data=df[['Month','DayofMonth','DayOfWeek','UniqueCarrier']]"
   ]
  },
  {
   "cell_type": "code",
   "execution_count": 5,
   "metadata": {
    "collapsed": false
   },
   "outputs": [],
   "source": [
    "# vectorize features with dummy variables\n",
    "from pandas import DataFrame\n",
    "df_X2 = pd.get_dummies(df_data)\n"
   ]
  },
  {
   "cell_type": "code",
   "execution_count": 6,
   "metadata": {
    "collapsed": false
   },
   "outputs": [],
   "source": [
    "df_Y2=df['dep_delayed_15min']"
   ]
  },
  {
   "cell_type": "code",
   "execution_count": 7,
   "metadata": {
    "collapsed": false
   },
   "outputs": [],
   "source": [
    "# Export transformed data\n",
    "airline_df = df_X2.join(df['dep_delayed_15min'])\n",
    "airline_df.to_csv('airline_trans.csv')"
   ]
  },
  {
   "cell_type": "code",
   "execution_count": 8,
   "metadata": {
    "collapsed": false
   },
   "outputs": [
    {
     "name": "stdout",
     "output_type": "stream",
     "text": [
      "Populating the interactive namespace from numpy and matplotlib\n"
     ]
    }
   ],
   "source": [
    "%pylab inline\n",
    "import matplotlib.pyplot as pl\n"
   ]
  },
  {
   "cell_type": "code",
   "execution_count": 9,
   "metadata": {
    "collapsed": false
   },
   "outputs": [],
   "source": [
    "# import models and split the data for train and test \n",
    "import sklearn.cross_validation as cv\n",
    "import numpy as np\n",
    "from sklearn import tree\n",
    "tree_model = tree.DecisionTreeClassifier()\n",
    "\n",
    "from sklearn import ensemble\n",
    "randomForest = ensemble.RandomForestClassifier()\n",
    "\n",
    "import sklearn.grid_search as gs\n",
    "\n",
    "\n",
    "\n",
    "x_train, x_test, y_train, y_test = cv.train_test_split(df_X2, \n",
    "                                                       df_Y2, \n",
    "                                                       test_size=1.0/3, \n",
    "                                                       random_state=0)"
   ]
  },
  {
   "cell_type": "code",
   "execution_count": 10,
   "metadata": {
    "collapsed": false
   },
   "outputs": [],
   "source": [
    "# Increase the depth of the tree for the default decision tree parameter\n",
    "depth  = range(1, 30)\n",
    "tree_train = []\n",
    "tree_test = []\n",
    "for i in depth:\n",
    "    tree_model.set_params(max_depth = i)\n",
    "    tree_model.fit(x_train, y_train)\n",
    "    train_error = 1 - tree_model.score(x_train, y_train)\n",
    "    test_error = 1 - tree_model.score(x_test, y_test)\n",
    "    \n",
    "    tree_train.append(train_error)\n",
    "    tree_test.append(test_error)"
   ]
  },
  {
   "cell_type": "code",
   "execution_count": 11,
   "metadata": {
    "collapsed": false
   },
   "outputs": [
    {
     "data": {
      "image/png": "[encoded data removed]",
      "text/plain": [
       "<matplotlib.figure.Figure at 0x115814350>"
      ]
     },
     "metadata": {},
     "output_type": "display_data"
    }
   ],
   "source": [
    "#Plot the effect of increasing the depth of the tree\n",
    "pl.plot(depth, tree_train, c = 'blue', label='training error')\n",
    "pl.plot(depth, tree_test, c = 'red', label='test error')\n",
    "pl.legend(loc=7)\n",
    "pl.xlabel('depth')\n",
    "pl.show()"
   ]
  },
  {
   "cell_type": "code",
   "execution_count": 12,
   "metadata": {
    "collapsed": true
   },
   "outputs": [],
   "source": [
    "# Use cross validation to find the best model parameters\n",
    "grid_para_tree = [{\"criterion\": [\"gini\", \"entropy\"], \"min_samples_leaf\": range(1, 50)}]\n",
    "grid_search_tree = gs.GridSearchCV(tree_model, grid_para_tree, cv=5, scoring='accuracy')"
   ]
  },
  {
   "cell_type": "code",
   "execution_count": 13,
   "metadata": {
    "collapsed": false
   },
   "outputs": [
    {
     "data": {
      "text/plain": [
       "GridSearchCV(cv=5, error_score='raise',\n",
       "       estimator=DecisionTreeClassifier(class_weight=None, criterion='gini', max_depth=29,\n",
       "            max_features=None, max_leaf_nodes=None, min_samples_leaf=1,\n",
       "            min_samples_split=2, min_weight_fraction_leaf=0.0,\n",
       "            presort=False, random_state=None, splitter='best'),\n",
       "       fit_params={}, iid=True, n_jobs=1,\n",
       "       param_grid=[{'criterion': ['gini', 'entropy'], 'min_samples_leaf': [1, 2, 3, 4, 5, 6, 7, 8, 9, 10, 11, 12, 13, 14, 15, 16, 17, 18, 19, 20, 21, 22, 23, 24, 25, 26, 27, 28, 29, 30, 31, 32, 33, 34, 35, 36, 37, 38, 39, 40, 41, 42, 43, 44, 45, 46, 47, 48, 49]}],\n",
       "       pre_dispatch='2*n_jobs', refit=True, scoring='accuracy', verbose=0)"
      ]
     },
     "execution_count": 13,
     "metadata": {},
     "output_type": "execute_result"
    }
   ],
   "source": [
    "grid_search_tree.fit(x_train, y_train)"
   ]
  },
  {
   "cell_type": "code",
   "execution_count": 14,
   "metadata": {
    "collapsed": false
   },
   "outputs": [
    {
     "data": {
      "text/plain": [
       "DecisionTreeClassifier(class_weight=None, criterion='gini', max_depth=29,\n",
       "            max_features=None, max_leaf_nodes=None, min_samples_leaf=36,\n",
       "            min_samples_split=2, min_weight_fraction_leaf=0.0,\n",
       "            presort=False, random_state=None, splitter='best')"
      ]
     },
     "execution_count": 14,
     "metadata": {},
     "output_type": "execute_result"
    }
   ],
   "source": [
    "#Use the best parameter for fitting the model\n",
    "grid_search_tree.best_estimator_"
   ]
  },
  {
   "cell_type": "code",
   "execution_count": 15,
   "metadata": {
    "collapsed": false
   },
   "outputs": [
    {
     "name": "stdout",
     "output_type": "stream",
     "text": [
      "Training accuracy: 0.80771\n",
      "Testing accuracy: 0.80683\n"
     ]
    }
   ],
   "source": [
    "# check the accuracies for overfitting\n",
    "tree_best=grid_search_tree.best_estimator_\n",
    "tree_best.fit(x_train,y_train)\n",
    "print \"Training accuracy: %.5f\" %tree_best.score(x_train, y_train)\n",
    "print \"Testing accuracy: %.5f\" %tree_best.score(x_test, y_test)"
   ]
  },
  {
   "cell_type": "code",
   "execution_count": 16,
   "metadata": {
    "collapsed": true
   },
   "outputs": [],
   "source": [
    "randomForest = ensemble.RandomForestClassifier()\n",
    "from sklearn import metrics"
   ]
  },
  {
   "cell_type": "code",
   "execution_count": 17,
   "metadata": {
    "collapsed": false
   },
   "outputs": [
    {
     "name": "stdout",
     "output_type": "stream",
     "text": [
      "The training error of random forest is: 0.15258\n",
      "The test     error of random forest is: 0.24204\n"
     ]
    }
   ],
   "source": [
    "# Fitting with default Random Forest model for any overfitting\n",
    "randomForest.fit(x_train, y_train)\n",
    "print \"The training error of random forest is: %.5f\" %(1-randomForest.score(x_train, y_train))\n",
    "print \"The test     error of random forest is: %.5f\" %(1-randomForest.score(x_test, y_test))"
   ]
  },
  {
   "cell_type": "code",
   "execution_count": 18,
   "metadata": {
    "collapsed": true
   },
   "outputs": [],
   "source": [
    "# Increase the number of trees to check error\n",
    "tree_number = range(10, 50, 5)\n",
    "train_error2 = []\n",
    "test_error2 = []\n",
    "\n",
    "for i in tree_number:\n",
    "    randomForest.set_params(n_estimators = i)\n",
    "    randomForest.fit(x_train, y_train)\n",
    "    train_error2.append(1 - randomForest.score(x_train, y_train))\n",
    "    test_error2.append(1 - randomForest.score(x_test, y_test))\n",
    "   "
   ]
  },
  {
   "cell_type": "code",
   "execution_count": 19,
   "metadata": {
    "collapsed": false
   },
   "outputs": [
    {
     "data": {
      "image/png": "[encoded data removed]",
      "text/plain": [
       "<matplotlib.figure.Figure at 0x1175aab50>"
      ]
     },
     "metadata": {},
     "output_type": "display_data"
    }
   ],
   "source": [
    "import matplotlib.pyplot as pl\n",
    "pl.plot(tree_number, train_error2, c = 'red', label = 'training error')\n",
    "pl.plot(tree_number, test_error2, c = 'blue', label = 'test error')\n",
    "\n",
    "pl.legend()\n",
    "pl.show()"
   ]
  },
  {
   "cell_type": "code",
   "execution_count": 12,
   "metadata": {
    "collapsed": false
   },
   "outputs": [
    {
     "data": {
      "text/plain": [
       "0.99999932734728203"
      ]
     },
     "execution_count": 12,
     "metadata": {},
     "output_type": "execute_result"
    }
   ],
   "source": []
  },
  {
   "cell_type": "code",
   "execution_count": null,
   "metadata": {
    "collapsed": true
   },
   "outputs": [],
   "source": []
  }
 ],
 "metadata": {
  "kernelspec": {
   "display_name": "Python 2",
   "language": "python",
   "name": "python2"
  },
  "language_info": {
   "codemirror_mode": {
    "name": "ipython",
    "version": 2
   },
   "file_extension": ".py",
   "mimetype": "text/x-python",
   "name": "python",
   "nbconvert_exporter": "python",
   "pygments_lexer": "ipython2",
   "version": "2.7.10"
  }
 },
 "nbformat": 4,
 "nbformat_minor": 0
}
