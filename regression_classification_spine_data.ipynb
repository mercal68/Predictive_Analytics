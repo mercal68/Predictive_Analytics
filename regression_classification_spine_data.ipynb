{
 "cells": [
  {
   "cell_type": "code",
   "execution_count": 1,
   "metadata": {
    "collapsed": true
   },
   "outputs": [],
   "source": [
    "# Selected the data from repository link: http://archive.ics.uci.edu/ml/datasets/Vertebral+Column\n",
    "# Prepare the data for ML models\n",
    "\n",
    "import pandas as pd\n",
    "spine = pd.read_csv(\"spinal_b.csv\", header=None, names=[\"Predictor1\", \"Predictor2\",\"Predictor3\",\n",
    "                                                        \"Predictor4\",\"Predictor5\",\"Predictor6\",\"Abnormal\"])\n",
    "d = {'AB': 1, 'NO': 0}\n",
    "spine['Abnormal'] = spine['Abnormal'].map(d)"
   ]
  },
  {
   "cell_type": "code",
   "execution_count": 2,
   "metadata": {
    "collapsed": true
   },
   "outputs": [],
   "source": [
    "# Instantiate the model\n",
    "# m = Model () used for  logistic regression\n",
    "# Choose predictors and split the data\n",
    "\n",
    "import sklearn.cross_validation as cv\n",
    "import numpy as np\n",
    "from sklearn import linear_model\n",
    "logit = linear_model.LogisticRegression()\n",
    "import sklearn.grid_search as gs\n",
    "\n",
    "X = np.array(spine.iloc[:, 0:6])\n",
    "Y = np.ravel(spine.iloc[:, -1])\n",
    "\n",
    "x_train, x_test, y_train, y_test = cv.train_test_split(X, \n",
    "                                                       Y, \n",
    "                                                       test_size=1.0/3, \n",
    "                                                       random_state=0)"
   ]
  },
  {
   "cell_type": "code",
   "execution_count": 3,
   "metadata": {
    "collapsed": false
   },
   "outputs": [
    {
     "data": {
      "text/plain": [
       "GridSearchCV(cv=5, error_score='raise',\n",
       "       estimator=LogisticRegression(C=1.0, class_weight=None, dual=False, fit_intercept=True,\n",
       "          intercept_scaling=1, max_iter=100, multi_class='ovr', n_jobs=1,\n",
       "          penalty='l2', random_state=None, solver='liblinear', tol=0.0001,\n",
       "          verbose=0, warm_start=False),\n",
       "       fit_params={}, iid=True, n_jobs=1,\n",
       "       param_grid=[{'penalty': ['l1', 'l2'], 'C': array([  1.00000e-05,   1.26186e-05, ...,   7.92483e+04,   1.00000e+05]), 'fit_intercept': [False, True]}],\n",
       "       pre_dispatch='2*n_jobs', refit=True, scoring='accuracy', verbose=0)"
      ]
     },
     "execution_count": 3,
     "metadata": {},
     "output_type": "execute_result"
    }
   ],
   "source": [
    "# Use Grid Search function to select the best parameters\n",
    "\n",
    "para_grid = [{'penalty': ['l1', 'l2'], 'fit_intercept': [False, True], \n",
    "              'C':np.logspace(-5, 5, 100)}]\n",
    "para_search = gs.GridSearchCV(logit, para_grid, cv = 5, scoring='accuracy')\n",
    "para_search.fit(x_train, y_train) "
   ]
  },
  {
   "cell_type": "code",
   "execution_count": 4,
   "metadata": {
    "collapsed": false
   },
   "outputs": [
    {
     "name": "stdout",
     "output_type": "stream",
     "text": [
      "Training accuracy: 0.87379\n",
      "Testing accuracy: 0.80769\n"
     ]
    }
   ],
   "source": [
    "#Use the best parameters and Evaluate it\n",
    "#m.score(train_data)\n",
    "\n",
    "logit_best = para_search.best_estimator_\n",
    "logit_best.fit(x_train, y_train)\n",
    "\n",
    "print \"Training accuracy: %.5f\" %logit_best.score(x_train, y_train)\n",
    "print \"Testing accuracy: %.5f\" %logit_best.score(x_test, y_test)"
   ]
  },
  {
   "cell_type": "code",
   "execution_count": 5,
   "metadata": {
    "collapsed": false
   },
   "outputs": [
    {
     "data": {
      "text/plain": [
       "GridSearchCV(cv=5, error_score='raise',\n",
       "       estimator=RandomForestClassifier(bootstrap=True, class_weight=None, criterion='gini',\n",
       "            max_depth=None, max_features='auto', max_leaf_nodes=None,\n",
       "            min_samples_leaf=1, min_samples_split=2,\n",
       "            min_weight_fraction_leaf=0.0, n_estimators=10, n_jobs=1,\n",
       "            oob_score=False, random_state=None, verbose=0,\n",
       "            warm_start=False),\n",
       "       fit_params={}, iid=True, n_jobs=1,\n",
       "       param_grid=[{'n_estimators': [10, 50, 100], 'min_samples_split': array([  2.,   4.,   6.,   8.,  10.,  12.,  14.,  16.,  18.,  20.,  22.,\n",
       "        24.,  26.,  28.,  30.]), 'criterion': ['gini', 'entropy'], 'min_samples_leaf': [1, 2, 3, 4, 5, 6, 7, 8, 9]}],\n",
       "       pre_dispatch='2*n_jobs', refit=True, scoring='accuracy', verbose=0)"
      ]
     },
     "execution_count": 5,
     "metadata": {},
     "output_type": "execute_result"
    }
   ],
   "source": [
    "# Trying to improve accuracy with an ensemble model\n",
    "# Instantiate the model\n",
    "# m = Model () used for  Random Forest\n",
    "# Use Grid Search function to select the best parameters\n",
    "\n",
    "from sklearn import ensemble\n",
    "randomForest = ensemble.RandomForestClassifier()\n",
    "\n",
    "grid_para_forest = [{\"n_estimators\": [10, 50, 100], \"criterion\": [\"gini\", \"entropy\"], \\\n",
    "                    \"min_samples_leaf\": range(1, 10), \"min_samples_split\": np.linspace(2, 30, 15)}]\n",
    "\n",
    "grid_search_forest = gs.GridSearchCV(randomForest, grid_para_forest, scoring='accuracy', cv=5)\n",
    "grid_search_forest.fit(x_train, y_train)"
   ]
  },
  {
   "cell_type": "code",
   "execution_count": 6,
   "metadata": {
    "collapsed": false
   },
   "outputs": [
    {
     "name": "stdout",
     "output_type": "stream",
     "text": [
      "Training accuracy: 0.91748\n",
      "Testing accuracy: 0.82692\n"
     ]
    }
   ],
   "source": [
    "#Use the best parameters and Evaluate it\n",
    "#m.score(train_data)\n",
    "forest_best=grid_search_forest.best_estimator_\n",
    "forest_best.fit(x_train,y_train)\n",
    "print \"Training accuracy: %.5f\" %forest_best.score(x_train, y_train)\n",
    "print \"Testing accuracy: %.5f\" %forest_best.score(x_test, y_test)"
   ]
  },
  {
   "cell_type": "code",
   "execution_count": 7,
   "metadata": {
    "collapsed": false
   },
   "outputs": [
    {
     "data": {
      "text/plain": [
       "GridSearchCV(cv=None, error_score='raise',\n",
       "       estimator=SVC(C=1.0, cache_size=200, class_weight=None, coef0=0.0,\n",
       "  decision_function_shape=None, degree=3, gamma='auto', kernel='rbf',\n",
       "  max_iter=-1, probability=False, random_state=None, shrinking=True,\n",
       "  tol=0.001, verbose=False),\n",
       "       fit_params={}, iid=True, n_jobs=1,\n",
       "       param_grid=[{'kernel': ['poly'], 'C': [1, 10, 100, 1000, 10000, 100000], 'degree': [1]}],\n",
       "       pre_dispatch='2*n_jobs', refit=True, scoring=None, verbose=0)"
      ]
     },
     "execution_count": 7,
     "metadata": {},
     "output_type": "execute_result"
    }
   ],
   "source": [
    "# Trying to improve test accuracy with Support Vector Machines (SVM)\n",
    "# Instantiate the model\n",
    "# m = Model () used for  SVM\n",
    "# Use Grid Search function to select the best parameters for degree of 1\n",
    "\n",
    "from sklearn import svm\n",
    "svm_model = svm.SVC()\n",
    "grid_para_svm = [{'C': [1, 10, 100, 1000,10000,100000], 'kernel': ['poly'], 'degree': [1]}]\n",
    "grid_search_svm = gs.GridSearchCV(svm_model, grid_para_svm)\n",
    "\n",
    "grid_search_svm.fit(x_train,y_train)"
   ]
  },
  {
   "cell_type": "code",
   "execution_count": 8,
   "metadata": {
    "collapsed": false
   },
   "outputs": [
    {
     "name": "stdout",
     "output_type": "stream",
     "text": [
      "Training accuracy: 0.87864\n",
      "Testing accuracy: 0.82692\n"
     ]
    }
   ],
   "source": [
    "#Use the best parameters and Evaluate it\n",
    "#m.score(train_data)\n",
    "\n",
    "svm_best=grid_search_svm.best_estimator_\n",
    "svm_best.fit(x_train,y_train)\n",
    "print \"Training accuracy: %.5f\" %svm_best.score(x_train, y_train)\n",
    "print \"Testing accuracy: %.5f\" %svm_best.score(x_test, y_test)"
   ]
  },
  {
   "cell_type": "code",
   "execution_count": null,
   "metadata": {
    "collapsed": true
   },
   "outputs": [],
   "source": []
  }
 ],
 "metadata": {
  "kernelspec": {
   "display_name": "Python 2",
   "language": "python",
   "name": "python2"
  },
  "language_info": {
   "codemirror_mode": {
    "name": "ipython",
    "version": 2
   },
   "file_extension": ".py",
   "mimetype": "text/x-python",
   "name": "python",
   "nbconvert_exporter": "python",
   "pygments_lexer": "ipython2",
   "version": "2.7.10"
  }
 },
 "nbformat": 4,
 "nbformat_minor": 0
}
